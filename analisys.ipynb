{
 "metadata": {
  "language_info": {
   "codemirror_mode": {
    "name": "ipython",
    "version": 3
   },
   "file_extension": ".py",
   "mimetype": "text/x-python",
   "name": "python",
   "nbconvert_exporter": "python",
   "pygments_lexer": "ipython3",
   "version": "3.8.0-final"
  },
  "orig_nbformat": 2,
  "kernelspec": {
   "name": "python39164bitdatascienceconda2b41d218985e44788b5b97b29eb26a45",
   "display_name": "Python 3.9.1 64-bit ('datascience': conda)",
   "language": "python"
  }
 },
 "nbformat": 4,
 "nbformat_minor": 2,
 "cells": [
  {
   "source": [
    "https://quantopian.github.io/pyfolio/notebooks/single_stock_example/#fetch-the-daily-returns-for-a-stock\n",
    "http://quantopian.github.io/empyrical/_modules/empyrical/stats.html#stability_of_timeseries\n"
   ],
   "cell_type": "markdown",
   "metadata": {}
  },
  {
   "cell_type": "code",
   "execution_count": 3,
   "metadata": {},
   "outputs": [],
   "source": [
    "import yfinance as yf\n",
    "import pandas as pd\n",
    "import numpy as np\n",
    "from scipy import stats\n",
    "import matplotlib.pyplot as plt"
   ]
  },
  {
   "cell_type": "code",
   "execution_count": 4,
   "metadata": {},
   "outputs": [
    {
     "output_type": "stream",
     "name": "stdout",
     "text": [
      "[*********************100%***********************]  1 of 1 completed\n"
     ]
    }
   ],
   "source": [
    "df_fb = yf.download('FB', start='2015-11-30', end='2017-08-23')"
   ]
  },
  {
   "cell_type": "code",
   "execution_count": 5,
   "metadata": {},
   "outputs": [
    {
     "output_type": "execute_result",
     "data": {
      "text/plain": [
       "                  open        high         low       close   adj close  \\\n",
       "Date                                                                     \n",
       "2017-08-16  171.250000  171.380005  169.240005  170.000000  170.000000   \n",
       "2017-08-17  169.339996  169.860001  166.850006  166.910004  166.910004   \n",
       "2017-08-18  166.839996  168.669998  166.210007  167.410004  167.410004   \n",
       "2017-08-21  167.160004  168.000000  165.820007  167.779999  167.779999   \n",
       "2017-08-22  168.279999  169.869995  167.149994  169.639999  169.639999   \n",
       "\n",
       "              volume   returns  \n",
       "Date                            \n",
       "2017-08-16  15779900 -0.005848  \n",
       "2017-08-17  17216000 -0.018176  \n",
       "2017-08-18  15093600  0.002996  \n",
       "2017-08-21  11907500  0.002210  \n",
       "2017-08-22  11391000  0.011086  "
      ],
      "text/html": "<div>\n<style scoped>\n    .dataframe tbody tr th:only-of-type {\n        vertical-align: middle;\n    }\n\n    .dataframe tbody tr th {\n        vertical-align: top;\n    }\n\n    .dataframe thead th {\n        text-align: right;\n    }\n</style>\n<table border=\"1\" class=\"dataframe\">\n  <thead>\n    <tr style=\"text-align: right;\">\n      <th></th>\n      <th>open</th>\n      <th>high</th>\n      <th>low</th>\n      <th>close</th>\n      <th>adj close</th>\n      <th>volume</th>\n      <th>returns</th>\n    </tr>\n    <tr>\n      <th>Date</th>\n      <th></th>\n      <th></th>\n      <th></th>\n      <th></th>\n      <th></th>\n      <th></th>\n      <th></th>\n    </tr>\n  </thead>\n  <tbody>\n    <tr>\n      <th>2017-08-16</th>\n      <td>171.250000</td>\n      <td>171.380005</td>\n      <td>169.240005</td>\n      <td>170.000000</td>\n      <td>170.000000</td>\n      <td>15779900</td>\n      <td>-0.005848</td>\n    </tr>\n    <tr>\n      <th>2017-08-17</th>\n      <td>169.339996</td>\n      <td>169.860001</td>\n      <td>166.850006</td>\n      <td>166.910004</td>\n      <td>166.910004</td>\n      <td>17216000</td>\n      <td>-0.018176</td>\n    </tr>\n    <tr>\n      <th>2017-08-18</th>\n      <td>166.839996</td>\n      <td>168.669998</td>\n      <td>166.210007</td>\n      <td>167.410004</td>\n      <td>167.410004</td>\n      <td>15093600</td>\n      <td>0.002996</td>\n    </tr>\n    <tr>\n      <th>2017-08-21</th>\n      <td>167.160004</td>\n      <td>168.000000</td>\n      <td>165.820007</td>\n      <td>167.779999</td>\n      <td>167.779999</td>\n      <td>11907500</td>\n      <td>0.002210</td>\n    </tr>\n    <tr>\n      <th>2017-08-22</th>\n      <td>168.279999</td>\n      <td>169.869995</td>\n      <td>167.149994</td>\n      <td>169.639999</td>\n      <td>169.639999</td>\n      <td>11391000</td>\n      <td>0.011086</td>\n    </tr>\n  </tbody>\n</table>\n</div>"
     },
     "metadata": {},
     "execution_count": 5
    }
   ],
   "source": [
    "df_fb['returns'] = df_fb.Close.pct_change()\n",
    "df_fb.columns = [txt.lower() for txt in df_fb.columns]\n",
    "df_fb.tail()"
   ]
  },
  {
   "source": [
    "## Simple daily cumulative returns of a stock\n",
    "\n",
    "The simple cumulative daily return is calculated by taking the cumulative product of the daily percentage change. This calculation is represented by the following equation:\n",
    "\n",
    "$i_{t} = (1+r_{t}) * i_{t-1}, i_{0} = 1$\n",
    "\n",
    "$r_{t} = \\frac{c_{t} - c_{t-1}}{c_{t-1}}$\n",
    "\n",
    "Where c is the close price and t is the day.\n",
    "\n",
    "So...\n",
    "\n",
    "${\\displaystyle CR = (\\prod_{n=1}^{d} 1 + r_{t}) - 1}$\n",
    "\n",
    "Where CR is the cumulative return of the day d from day n\n",
    "\n",
    "https://www.oreilly.com/library/view/learning-pandas-/9781787123137/3105cd10-4928-4219-8444-25a502b46c60.xhtml"
   ],
   "cell_type": "markdown",
   "metadata": {}
  },
  {
   "cell_type": "code",
   "execution_count": 6,
   "metadata": {},
   "outputs": [],
   "source": [
    "def cum_return(returns: pd.core.series.Series) -> np.float64:\n",
    "    return np.cumprod((1 + returns))[-1] -1"
   ]
  },
  {
   "cell_type": "code",
   "execution_count": 7,
   "metadata": {},
   "outputs": [
    {
     "output_type": "execute_result",
     "data": {
      "text/plain": [
       "0.6273983390842892"
      ]
     },
     "metadata": {},
     "execution_count": 7
    }
   ],
   "source": [
    "cr = cum_return(df_fb.returns)\n",
    "cr"
   ]
  },
  {
   "source": [
    "## Annual return\n",
    "\n",
    "$AR = (1 + CR)^{1/n} - 1$\n",
    "\n",
    "https://corporatefinanceinstitute.com/resources/knowledge/trading-investing/annual-return/\n",
    "\n",
    "The annual return is a measure of how much the investment has grown or shrunk in one year.\n",
    "The annualized return is the geometric average of annual returns of each year over the investment period."
   ],
   "cell_type": "markdown",
   "metadata": {}
  },
  {
   "cell_type": "code",
   "execution_count": 8,
   "metadata": {},
   "outputs": [],
   "source": [
    "def annualyzed_return (returns: pd.core.series.Series) -> np.float64:\n",
    "    n = (returns.index.max() - returns.index.min()).days/366\n",
    "    return ((1 + cum_return(returns))**(1/n)) - 1"
   ]
  },
  {
   "cell_type": "code",
   "execution_count": 9,
   "metadata": {},
   "outputs": [
    {
     "output_type": "execute_result",
     "data": {
      "text/plain": [
       "0.32639582782083654"
      ]
     },
     "metadata": {},
     "execution_count": 9
    }
   ],
   "source": [
    "ar = annualyzed_return(df_fb.returns)\n",
    "ar"
   ]
  },
  {
   "source": [
    "## Annualized volatility\n",
    "\n",
    "$\\sigma = \\sqrt{\\frac{\\sum{(x_{i} - \\mu)^2}}{N}} $\n",
    "\n",
    "$AB = \\sigma * \\sqrt 252$"
   ],
   "cell_type": "markdown",
   "metadata": {}
  },
  {
   "cell_type": "code",
   "execution_count": 69,
   "metadata": {},
   "outputs": [
    {
     "output_type": "execute_result",
     "data": {
      "text/plain": [
       "0.24267004751522425"
      ]
     },
     "metadata": {},
     "execution_count": 69
    }
   ],
   "source": [
    "av = df_fb.returns.std()*np.sqrt(252)"
   ]
  },
  {
   "source": [
    "## Sharpe ratio\n",
    "\n",
    "The Sharpe ratio has become the most widely used method for calculating the risk-adjusted return. Modern Portfolio Theory states that adding assets to a diversified portfolio that has low correlations can decrease portfolio risk without sacrificing return."
   ],
   "cell_type": "markdown",
   "metadata": {}
  },
  {
   "source": [
    "$SR = \\frac{\\mu - rf}{\\sigma}$"
   ],
   "cell_type": "markdown",
   "metadata": {}
  },
  {
   "cell_type": "code",
   "execution_count": 74,
   "metadata": {},
   "outputs": [
    {
     "output_type": "execute_result",
     "data": {
      "text/plain": [
       "1.2818392868958208"
      ]
     },
     "metadata": {},
     "execution_count": 74
    }
   ],
   "source": [
    "df_fb.returns.mean()/df_fb.returns.std()*np.sqrt(252)"
   ]
  },
  {
   "source": [
    "## Maximum Drawdown\n",
    "\n",
    "$i_{t} = (1+r_{t}) * i_{t-1}, i_{0} = 1$\n",
    "\n",
    "$RD_{t} = \\frac{i_{t}}{\\max{(i_{0},i_{1}..., i_{t})}}$\n",
    "\n",
    "$MD = \\min{(RD_{0},RD_{1},...,RD_{n})} - 1 $"
   ],
   "cell_type": "markdown",
   "metadata": {}
  },
  {
   "cell_type": "code",
   "execution_count": 114,
   "metadata": {},
   "outputs": [],
   "source": [
    "def max_drawdow(returns: pd.core.series.Series) -> np.float64:\n",
    "    i = (1 + returns).cumprod()\n",
    "    return np.min(i/i.expanding().max()) - 1"
   ]
  },
  {
   "cell_type": "code",
   "execution_count": 115,
   "metadata": {},
   "outputs": [
    {
     "output_type": "execute_result",
     "data": {
      "text/plain": [
       "-0.1367796810812303"
      ]
     },
     "metadata": {},
     "execution_count": 115
    }
   ],
   "source": [
    "max_drawdow(df_fb.returns)"
   ]
  },
  {
   "source": [
    "## Calmar ration\n",
    "\n",
    "\n",
    "https://corporatefinanceinstitute.com/resources/knowledge/trading-investing/calmar-ratio/"
   ],
   "cell_type": "markdown",
   "metadata": {}
  },
  {
   "cell_type": "code",
   "execution_count": 136,
   "metadata": {},
   "outputs": [
    {
     "output_type": "stream",
     "name": "stdout",
     "text": [
      "\n"
     ]
    },
    {
     "output_type": "execute_result",
     "data": {
      "text/plain": [
       "2.386288849635478"
      ]
     },
     "metadata": {},
     "execution_count": 136
    }
   ],
   "source": [
    "import math\n",
    "# 2.38\n",
    "np.absolute(annualyzed_return(df_fb.returns)/max_drawdow(df_fb.returns))\n"
   ]
  },
  {
   "source": [
    "## Stability\n",
    "\n",
    "http://quantopian.github.io/empyrical/_modules/empyrical/stats.html#stability_of_timeseries"
   ],
   "cell_type": "markdown",
   "metadata": {}
  },
  {
   "cell_type": "code",
   "execution_count": null,
   "metadata": {},
   "outputs": [],
   "source": []
  },
  {
   "source": [
    "## Kurtosis"
   ],
   "cell_type": "markdown",
   "metadata": {}
  },
  {
   "cell_type": "code",
   "execution_count": 141,
   "metadata": {},
   "outputs": [
    {
     "output_type": "execute_result",
     "data": {
      "text/plain": [
       "25.040588935741688"
      ]
     },
     "metadata": {},
     "execution_count": 141
    }
   ],
   "source": [
    "df_fb.returns.dropna().kurtosis()"
   ]
  },
  {
   "source": [
    "## Skew"
   ],
   "cell_type": "markdown",
   "metadata": {}
  },
  {
   "cell_type": "code",
   "execution_count": 143,
   "metadata": {},
   "outputs": [
    {
     "output_type": "execute_result",
     "data": {
      "text/plain": [
       "2.1284185122818857"
      ]
     },
     "metadata": {},
     "execution_count": 143
    }
   ],
   "source": [
    "df_fb.returns.dropna().skew()"
   ]
  },
  {
   "cell_type": "code",
   "execution_count": 147,
   "metadata": {},
   "outputs": [
    {
     "output_type": "execute_result",
     "data": {
      "text/plain": [
       "24.73992941679753"
      ]
     },
     "metadata": {},
     "execution_count": 147
    }
   ],
   "source": [
    "stats.kurtosis(df_fb.returns.dropna())"
   ]
  },
  {
   "source": [
    "# Omaga ratio\n",
    "\n",
    "https://faculty.fuqua.duke.edu/~charvey/Teaching/BA453_2006/Keating_A_universal_performance.pdf  \n",
    "https://www.semanticscholar.org/paper/A-Universal-Performance-Measure-Con-Keating-Shadwick/4f72011c761f799e5ce259de8a5b0569e94c8b1c  \n",
    "https://quantdare.com/omega-ratio-the-ultimate-risk-reward-ratio/  \n",
    "https://www.researchgate.net/publication/228689634_Omega_as_a_performance_measure  \n",
    "https://medium.com/@harishangaran/omega-performance-measure-using-python-a91752bea386  "
   ],
   "cell_type": "markdown",
   "metadata": {}
  },
  {
   "cell_type": "code",
   "execution_count": 6,
   "metadata": {},
   "outputs": [],
   "source": [
    "def omega_ration(returns: pd.core.series.Series, threshold:float=.0) -> float:\n",
    "    dailyThreshold = (threshold + 1) ** np.sqrt(1/252) - 1\n",
    "    excess = returns - dailyThreshold\n",
    "    positiveSum = np.sum(excess[excess > 0])\n",
    "    negativeSum = np.sum(excess[excess < 0])\n",
    "    omega = positiveSum/(-negativeSum)\n",
    "    return omega"
   ]
  },
  {
   "cell_type": "code",
   "execution_count": 7,
   "metadata": {},
   "outputs": [
    {
     "output_type": "execute_result",
     "data": {
      "text/plain": [
       "1.2880400853839211"
      ]
     },
     "metadata": {},
     "execution_count": 7
    }
   ],
   "source": [
    "omega_ration(df_fb.returns)"
   ]
  },
  {
   "cell_type": "code",
   "execution_count": 11,
   "metadata": {},
   "outputs": [],
   "source": [
    "thresholds = np.linspace(0., 1.5, 50)\n",
    "omegas = [omega_ration(df_fb.returns, threshold) for threshold in np.linspace(0., 1.5, 50)]"
   ]
  },
  {
   "cell_type": "code",
   "execution_count": 13,
   "metadata": {},
   "outputs": [
    {
     "output_type": "display_data",
     "data": {
      "text/plain": "<Figure size 864x360 with 1 Axes>",
      "image/svg+xml": "<?xml version=\"1.0\" encoding=\"utf-8\" standalone=\"no\"?>\n<!DOCTYPE svg PUBLIC \"-//W3C//DTD SVG 1.1//EN\"\n  \"http://www.w3.org/Graphics/SVG/1.1/DTD/svg11.dtd\">\n<!-- Created with matplotlib (https://matplotlib.org/) -->\n<svg height=\"302.878125pt\" version=\"1.1\" viewBox=\"0 0 706.903125 302.878125\" width=\"706.903125pt\" xmlns=\"http://www.w3.org/2000/svg\" xmlns:xlink=\"http://www.w3.org/1999/xlink\">\n <defs>\n  <style type=\"text/css\">\n*{stroke-linecap:butt;stroke-linejoin:round;}\n  </style>\n </defs>\n <g id=\"figure_1\">\n  <g id=\"patch_1\">\n   <path d=\"M 0 302.878125 \nL 706.903125 302.878125 \nL 706.903125 0 \nL 0 0 \nz\n\" style=\"fill:none;\"/>\n  </g>\n  <g id=\"axes_1\">\n   <g id=\"patch_2\">\n    <path d=\"M 30.103125 279 \nL 699.703125 279 \nL 699.703125 7.2 \nL 30.103125 7.2 \nz\n\" style=\"fill:#ffffff;\"/>\n   </g>\n   <g id=\"matplotlib.axis_1\">\n    <g id=\"xtick_1\">\n     <g id=\"line2d_1\">\n      <defs>\n       <path d=\"M 0 0 \nL 0 3.5 \n\" id=\"mfdac6d56ae\" style=\"stroke:#000000;stroke-width:0.8;\"/>\n      </defs>\n      <g>\n       <use style=\"stroke:#000000;stroke-width:0.8;\" x=\"58.517828\" xlink:href=\"#mfdac6d56ae\" y=\"279\"/>\n      </g>\n     </g>\n     <g id=\"text_1\">\n      <!-- 0.0 -->\n      <defs>\n       <path d=\"M 31.78125 66.40625 \nQ 24.171875 66.40625 20.328125 58.90625 \nQ 16.5 51.421875 16.5 36.375 \nQ 16.5 21.390625 20.328125 13.890625 \nQ 24.171875 6.390625 31.78125 6.390625 \nQ 39.453125 6.390625 43.28125 13.890625 \nQ 47.125 21.390625 47.125 36.375 \nQ 47.125 51.421875 43.28125 58.90625 \nQ 39.453125 66.40625 31.78125 66.40625 \nz\nM 31.78125 74.21875 \nQ 44.046875 74.21875 50.515625 64.515625 \nQ 56.984375 54.828125 56.984375 36.375 \nQ 56.984375 17.96875 50.515625 8.265625 \nQ 44.046875 -1.421875 31.78125 -1.421875 \nQ 19.53125 -1.421875 13.0625 8.265625 \nQ 6.59375 17.96875 6.59375 36.375 \nQ 6.59375 54.828125 13.0625 64.515625 \nQ 19.53125 74.21875 31.78125 74.21875 \nz\n\" id=\"DejaVuSans-48\"/>\n       <path d=\"M 10.6875 12.40625 \nL 21 12.40625 \nL 21 0 \nL 10.6875 0 \nz\n\" id=\"DejaVuSans-46\"/>\n      </defs>\n      <g transform=\"translate(50.566265 293.598437)scale(0.1 -0.1)\">\n       <use xlink:href=\"#DejaVuSans-48\"/>\n       <use x=\"63.623047\" xlink:href=\"#DejaVuSans-46\"/>\n       <use x=\"95.410156\" xlink:href=\"#DejaVuSans-48\"/>\n      </g>\n     </g>\n    </g>\n    <g id=\"xtick_2\">\n     <g id=\"line2d_2\">\n      <g>\n       <use style=\"stroke:#000000;stroke-width:0.8;\" x=\"153.351667\" xlink:href=\"#mfdac6d56ae\" y=\"279\"/>\n      </g>\n     </g>\n     <g id=\"text_2\">\n      <!-- 0.2 -->\n      <defs>\n       <path d=\"M 19.1875 8.296875 \nL 53.609375 8.296875 \nL 53.609375 0 \nL 7.328125 0 \nL 7.328125 8.296875 \nQ 12.9375 14.109375 22.625 23.890625 \nQ 32.328125 33.6875 34.8125 36.53125 \nQ 39.546875 41.84375 41.421875 45.53125 \nQ 43.3125 49.21875 43.3125 52.78125 \nQ 43.3125 58.59375 39.234375 62.25 \nQ 35.15625 65.921875 28.609375 65.921875 \nQ 23.96875 65.921875 18.8125 64.3125 \nQ 13.671875 62.703125 7.8125 59.421875 \nL 7.8125 69.390625 \nQ 13.765625 71.78125 18.9375 73 \nQ 24.125 74.21875 28.421875 74.21875 \nQ 39.75 74.21875 46.484375 68.546875 \nQ 53.21875 62.890625 53.21875 53.421875 \nQ 53.21875 48.921875 51.53125 44.890625 \nQ 49.859375 40.875 45.40625 35.40625 \nQ 44.1875 33.984375 37.640625 27.21875 \nQ 31.109375 20.453125 19.1875 8.296875 \nz\n\" id=\"DejaVuSans-50\"/>\n      </defs>\n      <g transform=\"translate(145.400105 293.598437)scale(0.1 -0.1)\">\n       <use xlink:href=\"#DejaVuSans-48\"/>\n       <use x=\"63.623047\" xlink:href=\"#DejaVuSans-46\"/>\n       <use x=\"95.410156\" xlink:href=\"#DejaVuSans-50\"/>\n      </g>\n     </g>\n    </g>\n    <g id=\"xtick_3\">\n     <g id=\"line2d_3\">\n      <g>\n       <use style=\"stroke:#000000;stroke-width:0.8;\" x=\"248.185507\" xlink:href=\"#mfdac6d56ae\" y=\"279\"/>\n      </g>\n     </g>\n     <g id=\"text_3\">\n      <!-- 0.4 -->\n      <defs>\n       <path d=\"M 37.796875 64.3125 \nL 12.890625 25.390625 \nL 37.796875 25.390625 \nz\nM 35.203125 72.90625 \nL 47.609375 72.90625 \nL 47.609375 25.390625 \nL 58.015625 25.390625 \nL 58.015625 17.1875 \nL 47.609375 17.1875 \nL 47.609375 0 \nL 37.796875 0 \nL 37.796875 17.1875 \nL 4.890625 17.1875 \nL 4.890625 26.703125 \nz\n\" id=\"DejaVuSans-52\"/>\n      </defs>\n      <g transform=\"translate(240.233944 293.598437)scale(0.1 -0.1)\">\n       <use xlink:href=\"#DejaVuSans-48\"/>\n       <use x=\"63.623047\" xlink:href=\"#DejaVuSans-46\"/>\n       <use x=\"95.410156\" xlink:href=\"#DejaVuSans-52\"/>\n      </g>\n     </g>\n    </g>\n    <g id=\"xtick_4\">\n     <g id=\"line2d_4\">\n      <g>\n       <use style=\"stroke:#000000;stroke-width:0.8;\" x=\"343.019346\" xlink:href=\"#mfdac6d56ae\" y=\"279\"/>\n      </g>\n     </g>\n     <g id=\"text_4\">\n      <!-- 0.6 -->\n      <defs>\n       <path d=\"M 33.015625 40.375 \nQ 26.375 40.375 22.484375 35.828125 \nQ 18.609375 31.296875 18.609375 23.390625 \nQ 18.609375 15.53125 22.484375 10.953125 \nQ 26.375 6.390625 33.015625 6.390625 \nQ 39.65625 6.390625 43.53125 10.953125 \nQ 47.40625 15.53125 47.40625 23.390625 \nQ 47.40625 31.296875 43.53125 35.828125 \nQ 39.65625 40.375 33.015625 40.375 \nz\nM 52.59375 71.296875 \nL 52.59375 62.3125 \nQ 48.875 64.0625 45.09375 64.984375 \nQ 41.3125 65.921875 37.59375 65.921875 \nQ 27.828125 65.921875 22.671875 59.328125 \nQ 17.53125 52.734375 16.796875 39.40625 \nQ 19.671875 43.65625 24.015625 45.921875 \nQ 28.375 48.1875 33.59375 48.1875 \nQ 44.578125 48.1875 50.953125 41.515625 \nQ 57.328125 34.859375 57.328125 23.390625 \nQ 57.328125 12.15625 50.6875 5.359375 \nQ 44.046875 -1.421875 33.015625 -1.421875 \nQ 20.359375 -1.421875 13.671875 8.265625 \nQ 6.984375 17.96875 6.984375 36.375 \nQ 6.984375 53.65625 15.1875 63.9375 \nQ 23.390625 74.21875 37.203125 74.21875 \nQ 40.921875 74.21875 44.703125 73.484375 \nQ 48.484375 72.75 52.59375 71.296875 \nz\n\" id=\"DejaVuSans-54\"/>\n      </defs>\n      <g transform=\"translate(335.067784 293.598437)scale(0.1 -0.1)\">\n       <use xlink:href=\"#DejaVuSans-48\"/>\n       <use x=\"63.623047\" xlink:href=\"#DejaVuSans-46\"/>\n       <use x=\"95.410156\" xlink:href=\"#DejaVuSans-54\"/>\n      </g>\n     </g>\n    </g>\n    <g id=\"xtick_5\">\n     <g id=\"line2d_5\">\n      <g>\n       <use style=\"stroke:#000000;stroke-width:0.8;\" x=\"437.853186\" xlink:href=\"#mfdac6d56ae\" y=\"279\"/>\n      </g>\n     </g>\n     <g id=\"text_5\">\n      <!-- 0.8 -->\n      <defs>\n       <path d=\"M 31.78125 34.625 \nQ 24.75 34.625 20.71875 30.859375 \nQ 16.703125 27.09375 16.703125 20.515625 \nQ 16.703125 13.921875 20.71875 10.15625 \nQ 24.75 6.390625 31.78125 6.390625 \nQ 38.8125 6.390625 42.859375 10.171875 \nQ 46.921875 13.96875 46.921875 20.515625 \nQ 46.921875 27.09375 42.890625 30.859375 \nQ 38.875 34.625 31.78125 34.625 \nz\nM 21.921875 38.8125 \nQ 15.578125 40.375 12.03125 44.71875 \nQ 8.5 49.078125 8.5 55.328125 \nQ 8.5 64.0625 14.71875 69.140625 \nQ 20.953125 74.21875 31.78125 74.21875 \nQ 42.671875 74.21875 48.875 69.140625 \nQ 55.078125 64.0625 55.078125 55.328125 \nQ 55.078125 49.078125 51.53125 44.71875 \nQ 48 40.375 41.703125 38.8125 \nQ 48.828125 37.15625 52.796875 32.3125 \nQ 56.78125 27.484375 56.78125 20.515625 \nQ 56.78125 9.90625 50.3125 4.234375 \nQ 43.84375 -1.421875 31.78125 -1.421875 \nQ 19.734375 -1.421875 13.25 4.234375 \nQ 6.78125 9.90625 6.78125 20.515625 \nQ 6.78125 27.484375 10.78125 32.3125 \nQ 14.796875 37.15625 21.921875 38.8125 \nz\nM 18.3125 54.390625 \nQ 18.3125 48.734375 21.84375 45.5625 \nQ 25.390625 42.390625 31.78125 42.390625 \nQ 38.140625 42.390625 41.71875 45.5625 \nQ 45.3125 48.734375 45.3125 54.390625 \nQ 45.3125 60.0625 41.71875 63.234375 \nQ 38.140625 66.40625 31.78125 66.40625 \nQ 25.390625 66.40625 21.84375 63.234375 \nQ 18.3125 60.0625 18.3125 54.390625 \nz\n\" id=\"DejaVuSans-56\"/>\n      </defs>\n      <g transform=\"translate(429.901623 293.598437)scale(0.1 -0.1)\">\n       <use xlink:href=\"#DejaVuSans-48\"/>\n       <use x=\"63.623047\" xlink:href=\"#DejaVuSans-46\"/>\n       <use x=\"95.410156\" xlink:href=\"#DejaVuSans-56\"/>\n      </g>\n     </g>\n    </g>\n    <g id=\"xtick_6\">\n     <g id=\"line2d_6\">\n      <g>\n       <use style=\"stroke:#000000;stroke-width:0.8;\" x=\"532.687025\" xlink:href=\"#mfdac6d56ae\" y=\"279\"/>\n      </g>\n     </g>\n     <g id=\"text_6\">\n      <!-- 1.0 -->\n      <defs>\n       <path d=\"M 12.40625 8.296875 \nL 28.515625 8.296875 \nL 28.515625 63.921875 \nL 10.984375 60.40625 \nL 10.984375 69.390625 \nL 28.421875 72.90625 \nL 38.28125 72.90625 \nL 38.28125 8.296875 \nL 54.390625 8.296875 \nL 54.390625 0 \nL 12.40625 0 \nz\n\" id=\"DejaVuSans-49\"/>\n      </defs>\n      <g transform=\"translate(524.735463 293.598437)scale(0.1 -0.1)\">\n       <use xlink:href=\"#DejaVuSans-49\"/>\n       <use x=\"63.623047\" xlink:href=\"#DejaVuSans-46\"/>\n       <use x=\"95.410156\" xlink:href=\"#DejaVuSans-48\"/>\n      </g>\n     </g>\n    </g>\n    <g id=\"xtick_7\">\n     <g id=\"line2d_7\">\n      <g>\n       <use style=\"stroke:#000000;stroke-width:0.8;\" x=\"627.520865\" xlink:href=\"#mfdac6d56ae\" y=\"279\"/>\n      </g>\n     </g>\n     <g id=\"text_7\">\n      <!-- 1.2 -->\n      <g transform=\"translate(619.569302 293.598437)scale(0.1 -0.1)\">\n       <use xlink:href=\"#DejaVuSans-49\"/>\n       <use x=\"63.623047\" xlink:href=\"#DejaVuSans-46\"/>\n       <use x=\"95.410156\" xlink:href=\"#DejaVuSans-50\"/>\n      </g>\n     </g>\n    </g>\n   </g>\n   <g id=\"matplotlib.axis_2\">\n    <g id=\"ytick_1\">\n     <g id=\"line2d_8\">\n      <defs>\n       <path d=\"M 0 0 \nL -3.5 0 \n\" id=\"m5ee1b4d9f4\" style=\"stroke:#000000;stroke-width:0.8;\"/>\n      </defs>\n      <g>\n       <use style=\"stroke:#000000;stroke-width:0.8;\" x=\"30.103125\" xlink:href=\"#m5ee1b4d9f4\" y=\"266.645455\"/>\n      </g>\n     </g>\n     <g id=\"text_8\">\n      <!-- 0.0 -->\n      <g transform=\"translate(7.2 270.444673)scale(0.1 -0.1)\">\n       <use xlink:href=\"#DejaVuSans-48\"/>\n       <use x=\"63.623047\" xlink:href=\"#DejaVuSans-46\"/>\n       <use x=\"95.410156\" xlink:href=\"#DejaVuSans-48\"/>\n      </g>\n     </g>\n    </g>\n    <g id=\"ytick_2\">\n     <g id=\"line2d_9\">\n      <g>\n       <use style=\"stroke:#000000;stroke-width:0.8;\" x=\"30.103125\" xlink:href=\"#m5ee1b4d9f4\" y=\"233.7\"/>\n      </g>\n     </g>\n     <g id=\"text_9\">\n      <!-- 0.2 -->\n      <g transform=\"translate(7.2 237.499219)scale(0.1 -0.1)\">\n       <use xlink:href=\"#DejaVuSans-48\"/>\n       <use x=\"63.623047\" xlink:href=\"#DejaVuSans-46\"/>\n       <use x=\"95.410156\" xlink:href=\"#DejaVuSans-50\"/>\n      </g>\n     </g>\n    </g>\n    <g id=\"ytick_3\">\n     <g id=\"line2d_10\">\n      <g>\n       <use style=\"stroke:#000000;stroke-width:0.8;\" x=\"30.103125\" xlink:href=\"#m5ee1b4d9f4\" y=\"200.754545\"/>\n      </g>\n     </g>\n     <g id=\"text_10\">\n      <!-- 0.4 -->\n      <g transform=\"translate(7.2 204.553764)scale(0.1 -0.1)\">\n       <use xlink:href=\"#DejaVuSans-48\"/>\n       <use x=\"63.623047\" xlink:href=\"#DejaVuSans-46\"/>\n       <use x=\"95.410156\" xlink:href=\"#DejaVuSans-52\"/>\n      </g>\n     </g>\n    </g>\n    <g id=\"ytick_4\">\n     <g id=\"line2d_11\">\n      <g>\n       <use style=\"stroke:#000000;stroke-width:0.8;\" x=\"30.103125\" xlink:href=\"#m5ee1b4d9f4\" y=\"167.809091\"/>\n      </g>\n     </g>\n     <g id=\"text_11\">\n      <!-- 0.6 -->\n      <g transform=\"translate(7.2 171.60831)scale(0.1 -0.1)\">\n       <use xlink:href=\"#DejaVuSans-48\"/>\n       <use x=\"63.623047\" xlink:href=\"#DejaVuSans-46\"/>\n       <use x=\"95.410156\" xlink:href=\"#DejaVuSans-54\"/>\n      </g>\n     </g>\n    </g>\n    <g id=\"ytick_5\">\n     <g id=\"line2d_12\">\n      <g>\n       <use style=\"stroke:#000000;stroke-width:0.8;\" x=\"30.103125\" xlink:href=\"#m5ee1b4d9f4\" y=\"134.863636\"/>\n      </g>\n     </g>\n     <g id=\"text_12\">\n      <!-- 0.8 -->\n      <g transform=\"translate(7.2 138.662855)scale(0.1 -0.1)\">\n       <use xlink:href=\"#DejaVuSans-48\"/>\n       <use x=\"63.623047\" xlink:href=\"#DejaVuSans-46\"/>\n       <use x=\"95.410156\" xlink:href=\"#DejaVuSans-56\"/>\n      </g>\n     </g>\n    </g>\n    <g id=\"ytick_6\">\n     <g id=\"line2d_13\">\n      <g>\n       <use style=\"stroke:#000000;stroke-width:0.8;\" x=\"30.103125\" xlink:href=\"#m5ee1b4d9f4\" y=\"101.918182\"/>\n      </g>\n     </g>\n     <g id=\"text_13\">\n      <!-- 1.0 -->\n      <g transform=\"translate(7.2 105.717401)scale(0.1 -0.1)\">\n       <use xlink:href=\"#DejaVuSans-49\"/>\n       <use x=\"63.623047\" xlink:href=\"#DejaVuSans-46\"/>\n       <use x=\"95.410156\" xlink:href=\"#DejaVuSans-48\"/>\n      </g>\n     </g>\n    </g>\n    <g id=\"ytick_7\">\n     <g id=\"line2d_14\">\n      <g>\n       <use style=\"stroke:#000000;stroke-width:0.8;\" x=\"30.103125\" xlink:href=\"#m5ee1b4d9f4\" y=\"68.972727\"/>\n      </g>\n     </g>\n     <g id=\"text_14\">\n      <!-- 1.2 -->\n      <g transform=\"translate(7.2 72.771946)scale(0.1 -0.1)\">\n       <use xlink:href=\"#DejaVuSans-49\"/>\n       <use x=\"63.623047\" xlink:href=\"#DejaVuSans-46\"/>\n       <use x=\"95.410156\" xlink:href=\"#DejaVuSans-50\"/>\n      </g>\n     </g>\n    </g>\n    <g id=\"ytick_8\">\n     <g id=\"line2d_15\">\n      <g>\n       <use style=\"stroke:#000000;stroke-width:0.8;\" x=\"30.103125\" xlink:href=\"#m5ee1b4d9f4\" y=\"36.027273\"/>\n      </g>\n     </g>\n     <g id=\"text_15\">\n      <!-- 1.4 -->\n      <g transform=\"translate(7.2 39.826491)scale(0.1 -0.1)\">\n       <use xlink:href=\"#DejaVuSans-49\"/>\n       <use x=\"63.623047\" xlink:href=\"#DejaVuSans-46\"/>\n       <use x=\"95.410156\" xlink:href=\"#DejaVuSans-52\"/>\n      </g>\n     </g>\n    </g>\n   </g>\n   <g id=\"line2d_16\">\n    <path clip-path=\"url(#p206b6cf2ba)\" d=\"M 669.266761 266.645455 \nL 472.239781 261.602783 \nL 344.061476 256.560111 \nL 260.20563 251.51744 \nL 203.598622 246.474768 \nL 164.214831 241.432096 \nL 136.383755 236.389425 \nL 116.679438 231.346753 \nL 102.712258 226.304082 \nL 93.083412 221.26141 \nL 86.167685 216.218738 \nL 81.242861 211.176067 \nL 77.561053 206.133395 \nL 74.610816 201.090724 \nL 72.361569 196.048052 \nL 70.600011 191.00538 \nL 69.135168 185.962709 \nL 67.996293 180.920037 \nL 67.0443 175.877365 \nL 66.276718 170.834694 \nL 65.638737 165.792022 \nL 65.098154 160.749351 \nL 64.611495 155.706679 \nL 64.166829 150.664007 \nL 63.792625 145.621336 \nL 63.484437 140.578664 \nL 63.20042 135.535993 \nL 62.937232 130.493321 \nL 62.692629 125.450649 \nL 62.490103 120.407978 \nL 62.332179 115.365306 \nL 62.184319 110.322635 \nL 62.045574 105.279963 \nL 61.915111 100.237291 \nL 61.792195 95.19462 \nL 61.676178 90.151948 \nL 61.566483 85.109276 \nL 61.462595 80.066605 \nL 61.364056 75.023933 \nL 61.270454 69.981262 \nL 61.181418 64.93859 \nL 61.096614 59.895918 \nL 61.01574 54.853247 \nL 60.938522 49.810575 \nL 60.864712 44.767904 \nL 60.794082 39.725232 \nL 60.726426 34.68256 \nL 60.661555 29.639889 \nL 60.599296 24.597217 \nL 60.539489 19.554545 \n\" style=\"fill:none;stroke:#1f77b4;stroke-linecap:square;stroke-width:1.5;\"/>\n   </g>\n   <g id=\"patch_3\">\n    <path d=\"M 30.103125 279 \nL 30.103125 7.2 \n\" style=\"fill:none;stroke:#000000;stroke-linecap:square;stroke-linejoin:miter;stroke-width:0.8;\"/>\n   </g>\n   <g id=\"patch_4\">\n    <path d=\"M 699.703125 279 \nL 699.703125 7.2 \n\" style=\"fill:none;stroke:#000000;stroke-linecap:square;stroke-linejoin:miter;stroke-width:0.8;\"/>\n   </g>\n   <g id=\"patch_5\">\n    <path d=\"M 30.103125 279 \nL 699.703125 279 \n\" style=\"fill:none;stroke:#000000;stroke-linecap:square;stroke-linejoin:miter;stroke-width:0.8;\"/>\n   </g>\n   <g id=\"patch_6\">\n    <path d=\"M 30.103125 7.2 \nL 699.703125 7.2 \n\" style=\"fill:none;stroke:#000000;stroke-linecap:square;stroke-linejoin:miter;stroke-width:0.8;\"/>\n   </g>\n  </g>\n </g>\n <defs>\n  <clipPath id=\"p206b6cf2ba\">\n   <rect height=\"271.8\" width=\"669.6\" x=\"30.103125\" y=\"7.2\"/>\n  </clipPath>\n </defs>\n</svg>\n",
      "image/png": "[encoded data removed]"
     },
     "metadata": {
      "needs_background": "light"
     }
    }
   ],
   "source": [
    "fig, ax = plt.subplots(1,1, figsize=(12,5))\n",
    "ax.plot(omegas, thresholds)\n",
    "plt.show()"
   ]
  },
  {
   "source": [
    "# Sortino ration"
   ],
   "cell_type": "markdown",
   "metadata": {}
  },
  {
   "cell_type": "code",
   "execution_count": 56,
   "metadata": {},
   "outputs": [],
   "source": [
    "def sortino_ratio(returns: pd.core.series.Series) -> float:\n",
    "    adj_returns = returns.copy()\n",
    "    adj_returns[adj_returns > 0] = .0\n",
    "    mean_squeres = (adj_returns**2).mean()\n",
    "    dside_risk = np.sqrt(mean_squeres) \n",
    "    sortino = returns.mean()/dside_risk\n",
    "    return sortino * np.sqrt(252)"
   ]
  },
  {
   "cell_type": "code",
   "execution_count": 57,
   "metadata": {},
   "outputs": [
    {
     "output_type": "execute_result",
     "data": {
      "text/plain": [
       "2.0944393687394354"
      ]
     },
     "metadata": {},
     "execution_count": 57
    }
   ],
   "source": [
    "sortino_ratio(df_fb.returns.dropna())"
   ]
  },
  {
   "cell_type": "code",
   "execution_count": 53,
   "metadata": {},
   "outputs": [
    {
     "output_type": "execute_result",
     "data": {
      "text/plain": [
       "Date\n",
       "2015-11-30         NaN\n",
       "2015-12-01    0.027629\n",
       "2015-12-02   -0.009802\n",
       "2015-12-03   -0.015933\n",
       "2015-12-04    0.017245\n",
       "                ...   \n",
       "2017-08-16   -0.005848\n",
       "2017-08-17   -0.018176\n",
       "2017-08-18    0.002996\n",
       "2017-08-21    0.002210\n",
       "2017-08-22    0.011086\n",
       "Name: returns, Length: 436, dtype: float64"
      ]
     },
     "metadata": {},
     "execution_count": 53
    }
   ],
   "source": [
    "df_fb.returns"
   ]
  },
  {
   "source": [
    "# Tail_ratio (rachev ratio?)"
   ],
   "cell_type": "markdown",
   "metadata": {}
  },
  {
   "cell_type": "code",
   "execution_count": 58,
   "metadata": {},
   "outputs": [],
   "source": [
    "def rachev_ratio(returns):\n",
    "    return np.abs(np.percentile(returns, 95)) / np.abs(np.percentile(returns, 5))"
   ]
  },
  {
   "cell_type": "code",
   "execution_count": 63,
   "metadata": {},
   "outputs": [
    {
     "output_type": "execute_result",
     "data": {
      "text/plain": [
       "1.0214469018070695"
      ]
     },
     "metadata": {},
     "execution_count": 63
    }
   ],
   "source": [
    "rachev_ratio(df_fb.returns.dropna())"
   ]
  },
  {
   "cell_type": "code",
   "execution_count": null,
   "metadata": {},
   "outputs": [],
   "source": []
  }
 ]
}